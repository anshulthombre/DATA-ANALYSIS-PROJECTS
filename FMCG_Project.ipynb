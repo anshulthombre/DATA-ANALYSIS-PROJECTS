{
 "cells": [
  {
   "cell_type": "code",
   "execution_count": 2,
   "id": "32f3f553-c1d1-4727-abc9-e5420e862e43",
   "metadata": {
    "tags": []
   },
   "outputs": [],
   "source": [
    "import pandas as pd\n",
    "import numpy as np\n",
    "from pandas import ExcelWriter \n",
    "# We have imported the excel writer to save the multiple dataframe in a single excel sheet. \n"
   ]
  },
  {
   "cell_type": "code",
   "execution_count": 235,
   "id": "ea42d65d-5dc8-4cc6-abf0-ac83f1b39468",
   "metadata": {
    "tags": []
   },
   "outputs": [],
   "source": [
    "FMCG = pd.read_csv(\"Raw Sales Data.csv\")"
   ]
  },
  {
   "cell_type": "code",
   "execution_count": 3,
   "id": "d589cc22-8fa6-4393-a29d-a16b9d2cfe43",
   "metadata": {
    "tags": []
   },
   "outputs": [
    {
     "data": {
      "text/html": [
       "<div>\n",
       "<style scoped>\n",
       "    .dataframe tbody tr th:only-of-type {\n",
       "        vertical-align: middle;\n",
       "    }\n",
       "\n",
       "    .dataframe tbody tr th {\n",
       "        vertical-align: top;\n",
       "    }\n",
       "\n",
       "    .dataframe thead th {\n",
       "        text-align: right;\n",
       "    }\n",
       "</style>\n",
       "<table border=\"1\" class=\"dataframe\">\n",
       "  <thead>\n",
       "    <tr style=\"text-align: right;\">\n",
       "      <th></th>\n",
       "      <th>Month</th>\n",
       "      <th>Channel</th>\n",
       "      <th>Sub-Channels</th>\n",
       "      <th>Product Name</th>\n",
       "      <th>Category</th>\n",
       "      <th>Qty</th>\n",
       "      <th>Sales</th>\n",
       "    </tr>\n",
       "  </thead>\n",
       "  <tbody>\n",
       "    <tr>\n",
       "      <th>0</th>\n",
       "      <td>01-Dec-20</td>\n",
       "      <td>Marketplace</td>\n",
       "      <td>AMAZON</td>\n",
       "      <td>ALOE + AMLA JUICE 1 L</td>\n",
       "      <td>Juices</td>\n",
       "      <td>1,116</td>\n",
       "      <td>4,28,700</td>\n",
       "    </tr>\n",
       "    <tr>\n",
       "      <th>1</th>\n",
       "      <td>01-Dec-20</td>\n",
       "      <td>Marketplace</td>\n",
       "      <td>AMAZON</td>\n",
       "      <td>ALOE + GARCINIA JUICE 1 L</td>\n",
       "      <td>Juices</td>\n",
       "      <td>3,003</td>\n",
       "      <td>13,74,831</td>\n",
       "    </tr>\n",
       "    <tr>\n",
       "      <th>2</th>\n",
       "      <td>01-Dec-20</td>\n",
       "      <td>Marketplace</td>\n",
       "      <td>AMAZON</td>\n",
       "      <td>ALOE VERA JUICE 1 L</td>\n",
       "      <td>Juices</td>\n",
       "      <td>2,962</td>\n",
       "      <td>7,32,167</td>\n",
       "    </tr>\n",
       "    <tr>\n",
       "      <th>3</th>\n",
       "      <td>01-Dec-20</td>\n",
       "      <td>Marketplace</td>\n",
       "      <td>AMAZON</td>\n",
       "      <td>ALOE VERA SKIN GEL 500 GM</td>\n",
       "      <td>Gourmet Nutrition</td>\n",
       "      <td>1,004</td>\n",
       "      <td>3,77,100</td>\n",
       "    </tr>\n",
       "    <tr>\n",
       "      <th>4</th>\n",
       "      <td>01-Dec-20</td>\n",
       "      <td>Marketplace</td>\n",
       "      <td>AMAZON</td>\n",
       "      <td>NEEM JUICE 1 L</td>\n",
       "      <td>Juices</td>\n",
       "      <td>555</td>\n",
       "      <td>1,52,287</td>\n",
       "    </tr>\n",
       "  </tbody>\n",
       "</table>\n",
       "</div>"
      ],
      "text/plain": [
       "       Month      Channel Sub-Channels               Product Name  \\\n",
       "0  01-Dec-20  Marketplace       AMAZON      ALOE + AMLA JUICE 1 L   \n",
       "1  01-Dec-20  Marketplace       AMAZON  ALOE + GARCINIA JUICE 1 L   \n",
       "2  01-Dec-20  Marketplace       AMAZON        ALOE VERA JUICE 1 L   \n",
       "3  01-Dec-20  Marketplace       AMAZON  ALOE VERA SKIN GEL 500 GM   \n",
       "4  01-Dec-20  Marketplace       AMAZON             NEEM JUICE 1 L   \n",
       "\n",
       "            Category      Qty        Sales  \n",
       "0             Juices   1,116     4,28,700   \n",
       "1             Juices   3,003    13,74,831   \n",
       "2             Juices   2,962     7,32,167   \n",
       "3  Gourmet Nutrition   1,004     3,77,100   \n",
       "4             Juices     555     1,52,287   "
      ]
     },
     "execution_count": 3,
     "metadata": {},
     "output_type": "execute_result"
    }
   ],
   "source": [
    "FMCG.head()"
   ]
  },
  {
   "cell_type": "code",
   "execution_count": 4,
   "id": "733f8bde-be26-4506-8ba1-1ff92dacecf3",
   "metadata": {
    "tags": []
   },
   "outputs": [
    {
     "name": "stdout",
     "output_type": "stream",
     "text": [
      "<class 'pandas.core.frame.DataFrame'>\n",
      "RangeIndex: 224 entries, 0 to 223\n",
      "Data columns (total 7 columns):\n",
      " #   Column        Non-Null Count  Dtype \n",
      "---  ------        --------------  ----- \n",
      " 0   Month         224 non-null    object\n",
      " 1   Channel       224 non-null    object\n",
      " 2   Sub-Channels  224 non-null    object\n",
      " 3   Product Name  224 non-null    object\n",
      " 4   Category      224 non-null    object\n",
      " 5   Qty           224 non-null    object\n",
      " 6   Sales         224 non-null    object\n",
      "dtypes: object(7)\n",
      "memory usage: 12.4+ KB\n"
     ]
    }
   ],
   "source": [
    "FMCG.info()\n",
    "#Checking the information of the Dataframe. "
   ]
  },
  {
   "cell_type": "code",
   "execution_count": 11,
   "id": "59f67476-9e06-4ef2-916e-8e61550627cb",
   "metadata": {
    "tags": []
   },
   "outputs": [],
   "source": [
    "FMCG['Sales'] = FMCG['Sales'].str.replace(',','').astype(int)"
   ]
  },
  {
   "cell_type": "code",
   "execution_count": 12,
   "id": "759dc126-d0fc-41e1-a77e-d6af3ca64ff3",
   "metadata": {
    "tags": []
   },
   "outputs": [
    {
     "name": "stdout",
     "output_type": "stream",
     "text": [
      "<class 'pandas.core.frame.DataFrame'>\n",
      "RangeIndex: 224 entries, 0 to 223\n",
      "Data columns (total 8 columns):\n",
      " #   Column        Non-Null Count  Dtype         \n",
      "---  ------        --------------  -----         \n",
      " 0   Month         224 non-null    datetime64[ns]\n",
      " 1   Channel       224 non-null    object        \n",
      " 2   Sub-Channels  224 non-null    object        \n",
      " 3   Product Name  224 non-null    object        \n",
      " 4   Category      224 non-null    object        \n",
      " 5   Qty           224 non-null    object        \n",
      " 6   Sales         224 non-null    int32         \n",
      " 7   Month_Number  224 non-null    int32         \n",
      "dtypes: datetime64[ns](1), int32(2), object(5)\n",
      "memory usage: 12.4+ KB\n"
     ]
    }
   ],
   "source": [
    "FMCG.info()"
   ]
  },
  {
   "cell_type": "code",
   "execution_count": 13,
   "id": "2be66949-8596-4d82-848b-5018f63e8b5c",
   "metadata": {
    "tags": []
   },
   "outputs": [
    {
     "data": {
      "text/html": [
       "<div>\n",
       "<style scoped>\n",
       "    .dataframe tbody tr th:only-of-type {\n",
       "        vertical-align: middle;\n",
       "    }\n",
       "\n",
       "    .dataframe tbody tr th {\n",
       "        vertical-align: top;\n",
       "    }\n",
       "\n",
       "    .dataframe thead th {\n",
       "        text-align: right;\n",
       "    }\n",
       "</style>\n",
       "<table border=\"1\" class=\"dataframe\">\n",
       "  <thead>\n",
       "    <tr style=\"text-align: right;\">\n",
       "      <th></th>\n",
       "      <th>Month</th>\n",
       "      <th>Channel</th>\n",
       "      <th>Sub-Channels</th>\n",
       "      <th>Product Name</th>\n",
       "      <th>Category</th>\n",
       "      <th>Qty</th>\n",
       "      <th>Sales</th>\n",
       "      <th>Month_Number</th>\n",
       "    </tr>\n",
       "  </thead>\n",
       "  <tbody>\n",
       "    <tr>\n",
       "      <th>0</th>\n",
       "      <td>2020-12-01</td>\n",
       "      <td>Marketplace</td>\n",
       "      <td>AMAZON</td>\n",
       "      <td>ALOE + AMLA JUICE 1 L</td>\n",
       "      <td>Juices</td>\n",
       "      <td>1116</td>\n",
       "      <td>428700</td>\n",
       "      <td>12</td>\n",
       "    </tr>\n",
       "    <tr>\n",
       "      <th>1</th>\n",
       "      <td>2020-12-01</td>\n",
       "      <td>Marketplace</td>\n",
       "      <td>AMAZON</td>\n",
       "      <td>ALOE + GARCINIA JUICE 1 L</td>\n",
       "      <td>Juices</td>\n",
       "      <td>3003</td>\n",
       "      <td>1374831</td>\n",
       "      <td>12</td>\n",
       "    </tr>\n",
       "    <tr>\n",
       "      <th>2</th>\n",
       "      <td>2020-12-01</td>\n",
       "      <td>Marketplace</td>\n",
       "      <td>AMAZON</td>\n",
       "      <td>ALOE VERA JUICE 1 L</td>\n",
       "      <td>Juices</td>\n",
       "      <td>2962</td>\n",
       "      <td>732167</td>\n",
       "      <td>12</td>\n",
       "    </tr>\n",
       "    <tr>\n",
       "      <th>3</th>\n",
       "      <td>2020-12-01</td>\n",
       "      <td>Marketplace</td>\n",
       "      <td>AMAZON</td>\n",
       "      <td>ALOE VERA SKIN GEL 500 GM</td>\n",
       "      <td>Gourmet Nutrition</td>\n",
       "      <td>1004</td>\n",
       "      <td>377100</td>\n",
       "      <td>12</td>\n",
       "    </tr>\n",
       "    <tr>\n",
       "      <th>4</th>\n",
       "      <td>2020-12-01</td>\n",
       "      <td>Marketplace</td>\n",
       "      <td>AMAZON</td>\n",
       "      <td>NEEM JUICE 1 L</td>\n",
       "      <td>Juices</td>\n",
       "      <td>555</td>\n",
       "      <td>152287</td>\n",
       "      <td>12</td>\n",
       "    </tr>\n",
       "    <tr>\n",
       "      <th>...</th>\n",
       "      <td>...</td>\n",
       "      <td>...</td>\n",
       "      <td>...</td>\n",
       "      <td>...</td>\n",
       "      <td>...</td>\n",
       "      <td>...</td>\n",
       "      <td>...</td>\n",
       "      <td>...</td>\n",
       "    </tr>\n",
       "    <tr>\n",
       "      <th>219</th>\n",
       "      <td>2021-03-01</td>\n",
       "      <td>Marketplace</td>\n",
       "      <td>Big Basket</td>\n",
       "      <td>ORGANIC GULKAND 300grams</td>\n",
       "      <td>Gourmet Nutrition</td>\n",
       "      <td>509</td>\n",
       "      <td>165426</td>\n",
       "      <td>3</td>\n",
       "    </tr>\n",
       "    <tr>\n",
       "      <th>220</th>\n",
       "      <td>2021-03-01</td>\n",
       "      <td>Marketplace</td>\n",
       "      <td>Flipkart</td>\n",
       "      <td>ALOE + GARCINIA JUICE 1 L</td>\n",
       "      <td>Juices</td>\n",
       "      <td>542</td>\n",
       "      <td>248830</td>\n",
       "      <td>3</td>\n",
       "    </tr>\n",
       "    <tr>\n",
       "      <th>221</th>\n",
       "      <td>2021-03-01</td>\n",
       "      <td>Marketplace</td>\n",
       "      <td>Flipkart</td>\n",
       "      <td>AMLA JUICE 1 L</td>\n",
       "      <td>Juices</td>\n",
       "      <td>645</td>\n",
       "      <td>140907</td>\n",
       "      <td>3</td>\n",
       "    </tr>\n",
       "    <tr>\n",
       "      <th>222</th>\n",
       "      <td>2021-03-01</td>\n",
       "      <td>Marketplace</td>\n",
       "      <td>Flipkart</td>\n",
       "      <td>GET SLIM JUICE 1 L</td>\n",
       "      <td>Juices</td>\n",
       "      <td>1242</td>\n",
       "      <td>436043</td>\n",
       "      <td>3</td>\n",
       "    </tr>\n",
       "    <tr>\n",
       "      <th>223</th>\n",
       "      <td>2021-03-01</td>\n",
       "      <td>Marketplace</td>\n",
       "      <td>GOQII</td>\n",
       "      <td>RAW HONEY ( MADHU) 500 GRAMS</td>\n",
       "      <td>Gourmet Nutrition</td>\n",
       "      <td>971</td>\n",
       "      <td>582600</td>\n",
       "      <td>3</td>\n",
       "    </tr>\n",
       "  </tbody>\n",
       "</table>\n",
       "<p>224 rows × 8 columns</p>\n",
       "</div>"
      ],
      "text/plain": [
       "         Month      Channel Sub-Channels                  Product Name  \\\n",
       "0   2020-12-01  Marketplace       AMAZON         ALOE + AMLA JUICE 1 L   \n",
       "1   2020-12-01  Marketplace       AMAZON     ALOE + GARCINIA JUICE 1 L   \n",
       "2   2020-12-01  Marketplace       AMAZON           ALOE VERA JUICE 1 L   \n",
       "3   2020-12-01  Marketplace       AMAZON     ALOE VERA SKIN GEL 500 GM   \n",
       "4   2020-12-01  Marketplace       AMAZON                NEEM JUICE 1 L   \n",
       "..         ...          ...          ...                           ...   \n",
       "219 2021-03-01  Marketplace   Big Basket      ORGANIC GULKAND 300grams   \n",
       "220 2021-03-01  Marketplace     Flipkart     ALOE + GARCINIA JUICE 1 L   \n",
       "221 2021-03-01  Marketplace     Flipkart                AMLA JUICE 1 L   \n",
       "222 2021-03-01  Marketplace     Flipkart            GET SLIM JUICE 1 L   \n",
       "223 2021-03-01  Marketplace        GOQII  RAW HONEY ( MADHU) 500 GRAMS   \n",
       "\n",
       "              Category   Qty    Sales  Month_Number  \n",
       "0               Juices  1116   428700            12  \n",
       "1               Juices  3003  1374831            12  \n",
       "2               Juices  2962   732167            12  \n",
       "3    Gourmet Nutrition  1004   377100            12  \n",
       "4               Juices   555   152287            12  \n",
       "..                 ...   ...      ...           ...  \n",
       "219  Gourmet Nutrition   509   165426             3  \n",
       "220             Juices   542   248830             3  \n",
       "221             Juices   645   140907             3  \n",
       "222             Juices  1242   436043             3  \n",
       "223  Gourmet Nutrition   971   582600             3  \n",
       "\n",
       "[224 rows x 8 columns]"
      ]
     },
     "execution_count": 13,
     "metadata": {},
     "output_type": "execute_result"
    }
   ],
   "source": [
    "FMCG['Qty'] = FMCG['Qty'].str.replace(',','').astype(int)\n",
    "FMCG"
   ]
  },
  {
   "cell_type": "code",
   "execution_count": 240,
   "id": "78a4bed7-7689-41a4-99b5-5066dc9086c3",
   "metadata": {
    "tags": []
   },
   "outputs": [],
   "source": [
    "#The Month data was in string format, so we changed it to the datetime format. \n",
    "# syntax  pd.to_datetime(df['coloum'], format = 'depends on the data')\n",
    "\n",
    "FMCG['Month'] = pd.to_datetime(FMCG[\"Month\"],format='%d-%b-%y')\n",
    "\n",
    "# by using dt.strftime(%b), we have converted the month number to the month name. \n",
    "FMCG['Month_Number'] = FMCG['Month'].dt.strftime('%b')\n"
   ]
  },
  {
   "cell_type": "code",
   "execution_count": 17,
   "id": "427fd976-f0b9-404e-a3c4-19d7b592660e",
   "metadata": {
    "tags": []
   },
   "outputs": [
    {
     "name": "stdout",
     "output_type": "stream",
     "text": [
      "<class 'pandas.core.frame.DataFrame'>\n",
      "RangeIndex: 224 entries, 0 to 223\n",
      "Data columns (total 8 columns):\n",
      " #   Column        Non-Null Count  Dtype         \n",
      "---  ------        --------------  -----         \n",
      " 0   Month         224 non-null    datetime64[ns]\n",
      " 1   Channel       224 non-null    object        \n",
      " 2   Sub-Channels  224 non-null    object        \n",
      " 3   Product Name  224 non-null    object        \n",
      " 4   Category      224 non-null    object        \n",
      " 5   Qty           224 non-null    int32         \n",
      " 6   Sales         224 non-null    int32         \n",
      " 7   Month_Number  224 non-null    object        \n",
      "dtypes: datetime64[ns](1), int32(2), object(5)\n",
      "memory usage: 12.4+ KB\n"
     ]
    }
   ],
   "source": [
    "FMCG.info()"
   ]
  },
  {
   "cell_type": "markdown",
   "id": "927d8558-5d78-48f7-9ba5-18a2341df250",
   "metadata": {},
   "source": [
    "# 1. Monthwise number of quantities sold\n"
   ]
  },
  {
   "cell_type": "code",
   "execution_count": 150,
   "id": "f93dc01e-311a-4fc2-a7be-b0578ede68ee",
   "metadata": {
    "tags": []
   },
   "outputs": [
    {
     "name": "stdout",
     "output_type": "stream",
     "text": [
      "  Month_Number    Qty\n",
      "0          Dec  85427\n",
      "1          Feb  76393\n",
      "2          Jan  67732\n",
      "3          Mar  80229\n"
     ]
    }
   ],
   "source": [
    "monthwise_qty_sold = FMCG.groupby('Month_Number')['Qty'].sum() #This is in series right now \n",
    "monthwise_qty_sold =pd.DataFrame(monthwise_qty_sold).reset_index()\n",
    "print(monthwise_qty_sold)"
   ]
  },
  {
   "cell_type": "markdown",
   "id": "8d3e5443-7172-423b-b041-1e4dd20720ed",
   "metadata": {},
   "source": [
    "# 2. Category wise Qty sold"
   ]
  },
  {
   "cell_type": "code",
   "execution_count": 84,
   "id": "fe58882d-8b0a-4f22-b456-9f7a91b1a972",
   "metadata": {
    "tags": []
   },
   "outputs": [
    {
     "name": "stdout",
     "output_type": "stream",
     "text": [
      "               Category     Qty\n",
      "0  Functional nutrition   42354\n",
      "1     Gourmet Nutrition   89279\n",
      "2                Juices  178148\n"
     ]
    }
   ],
   "source": [
    "category_wise_qty = FMCG.groupby('Category')['Qty'].sum().reset_index() #This is a series\n",
    "# Now we will convert it to the dataframe. \n",
    "category_wise_qty = pd.DataFrame(category_wise_qty)\n",
    "print(category_wise_qty)\n",
    "#check the data type. "
   ]
  },
  {
   "cell_type": "markdown",
   "id": "8789a55a-cc6c-4c45-9602-fccaa460c03c",
   "metadata": {},
   "source": [
    "# 3. Sub-channel wise total sales"
   ]
  },
  {
   "cell_type": "code",
   "execution_count": 113,
   "id": "6e8da707-3b00-4f18-a409-e4ac5d7e2b21",
   "metadata": {
    "tags": []
   },
   "outputs": [
    {
     "data": {
      "text/html": [
       "<div>\n",
       "<style scoped>\n",
       "    .dataframe tbody tr th:only-of-type {\n",
       "        vertical-align: middle;\n",
       "    }\n",
       "\n",
       "    .dataframe tbody tr th {\n",
       "        vertical-align: top;\n",
       "    }\n",
       "\n",
       "    .dataframe thead th {\n",
       "        text-align: right;\n",
       "    }\n",
       "</style>\n",
       "<table border=\"1\" class=\"dataframe\">\n",
       "  <thead>\n",
       "    <tr style=\"text-align: right;\">\n",
       "      <th></th>\n",
       "      <th>Sub-Channels</th>\n",
       "      <th>Sales</th>\n",
       "    </tr>\n",
       "  </thead>\n",
       "  <tbody>\n",
       "    <tr>\n",
       "      <th>0</th>\n",
       "      <td>AMAZON</td>\n",
       "      <td>35606804</td>\n",
       "    </tr>\n",
       "    <tr>\n",
       "      <th>1</th>\n",
       "      <td>Big Basket</td>\n",
       "      <td>1207522</td>\n",
       "    </tr>\n",
       "    <tr>\n",
       "      <th>2</th>\n",
       "      <td>D2C</td>\n",
       "      <td>28047538</td>\n",
       "    </tr>\n",
       "    <tr>\n",
       "      <th>3</th>\n",
       "      <td>Flipkart</td>\n",
       "      <td>3770415</td>\n",
       "    </tr>\n",
       "    <tr>\n",
       "      <th>4</th>\n",
       "      <td>GOQII</td>\n",
       "      <td>582600</td>\n",
       "    </tr>\n",
       "    <tr>\n",
       "      <th>5</th>\n",
       "      <td>Offline - Central</td>\n",
       "      <td>375332</td>\n",
       "    </tr>\n",
       "    <tr>\n",
       "      <th>6</th>\n",
       "      <td>Offline - East</td>\n",
       "      <td>811146</td>\n",
       "    </tr>\n",
       "    <tr>\n",
       "      <th>7</th>\n",
       "      <td>Offline - MT</td>\n",
       "      <td>6257948</td>\n",
       "    </tr>\n",
       "    <tr>\n",
       "      <th>8</th>\n",
       "      <td>Offline - South</td>\n",
       "      <td>3446395</td>\n",
       "    </tr>\n",
       "    <tr>\n",
       "      <th>9</th>\n",
       "      <td>Offline - West</td>\n",
       "      <td>6441427</td>\n",
       "    </tr>\n",
       "    <tr>\n",
       "      <th>10</th>\n",
       "      <td>Offline -North</td>\n",
       "      <td>1206564</td>\n",
       "    </tr>\n",
       "  </tbody>\n",
       "</table>\n",
       "</div>"
      ],
      "text/plain": [
       "         Sub-Channels     Sales\n",
       "0              AMAZON  35606804\n",
       "1          Big Basket   1207522\n",
       "2                 D2C  28047538\n",
       "3            Flipkart   3770415\n",
       "4               GOQII    582600\n",
       "5   Offline - Central    375332\n",
       "6      Offline - East    811146\n",
       "7        Offline - MT   6257948\n",
       "8     Offline - South   3446395\n",
       "9      Offline - West   6441427\n",
       "10     Offline -North   1206564"
      ]
     },
     "execution_count": 113,
     "metadata": {},
     "output_type": "execute_result"
    }
   ],
   "source": [
    "sub_channel_wise_total_sales = FMCG.groupby('Sub-Channels')['Sales'].sum().reset_index()\n",
    "sub_channel_wise_total_sales = pd.DataFrame(sub_channe_wise_total_sales)\n",
    "sub_channel_wise_total_sales"
   ]
  },
  {
   "cell_type": "code",
   "execution_count": 204,
   "id": "93529290-a8d9-448e-ba2d-5c668db3471b",
   "metadata": {
    "tags": []
   },
   "outputs": [
    {
     "data": {
      "text/html": [
       "<div>\n",
       "<style scoped>\n",
       "    .dataframe tbody tr th:only-of-type {\n",
       "        vertical-align: middle;\n",
       "    }\n",
       "\n",
       "    .dataframe tbody tr th {\n",
       "        vertical-align: top;\n",
       "    }\n",
       "\n",
       "    .dataframe thead th {\n",
       "        text-align: right;\n",
       "    }\n",
       "</style>\n",
       "<table border=\"1\" class=\"dataframe\">\n",
       "  <thead>\n",
       "    <tr style=\"text-align: right;\">\n",
       "      <th></th>\n",
       "      <th>Month</th>\n",
       "      <th>Channel</th>\n",
       "      <th>Sub-Channels</th>\n",
       "      <th>Product Name</th>\n",
       "      <th>Category</th>\n",
       "      <th>Qty</th>\n",
       "      <th>Sales</th>\n",
       "      <th>Month_Number</th>\n",
       "      <th>New_products</th>\n",
       "    </tr>\n",
       "  </thead>\n",
       "  <tbody>\n",
       "    <tr>\n",
       "      <th>0</th>\n",
       "      <td>2020-12-01</td>\n",
       "      <td>Marketplace</td>\n",
       "      <td>AMAZON</td>\n",
       "      <td>ALOE + AMLA JUICE 1 L</td>\n",
       "      <td>Juices</td>\n",
       "      <td>1116</td>\n",
       "      <td>428700</td>\n",
       "      <td>Dec</td>\n",
       "      <td>ALOE + AMLA JUICE</td>\n",
       "    </tr>\n",
       "    <tr>\n",
       "      <th>1</th>\n",
       "      <td>2020-12-01</td>\n",
       "      <td>Marketplace</td>\n",
       "      <td>AMAZON</td>\n",
       "      <td>ALOE + GARCINIA JUICE 1 L</td>\n",
       "      <td>Juices</td>\n",
       "      <td>3003</td>\n",
       "      <td>1374831</td>\n",
       "      <td>Dec</td>\n",
       "      <td>ALOE + GARCINIA JUICE</td>\n",
       "    </tr>\n",
       "    <tr>\n",
       "      <th>2</th>\n",
       "      <td>2020-12-01</td>\n",
       "      <td>Marketplace</td>\n",
       "      <td>AMAZON</td>\n",
       "      <td>ALOE VERA JUICE 1 L</td>\n",
       "      <td>Juices</td>\n",
       "      <td>2962</td>\n",
       "      <td>732167</td>\n",
       "      <td>Dec</td>\n",
       "      <td>ALOE VERA JUICE</td>\n",
       "    </tr>\n",
       "    <tr>\n",
       "      <th>3</th>\n",
       "      <td>2020-12-01</td>\n",
       "      <td>Marketplace</td>\n",
       "      <td>AMAZON</td>\n",
       "      <td>ALOE VERA SKIN GEL 500 GM</td>\n",
       "      <td>Gourmet Nutrition</td>\n",
       "      <td>1004</td>\n",
       "      <td>377100</td>\n",
       "      <td>Dec</td>\n",
       "      <td>ALOE VERA SKIN GEL</td>\n",
       "    </tr>\n",
       "    <tr>\n",
       "      <th>4</th>\n",
       "      <td>2020-12-01</td>\n",
       "      <td>Marketplace</td>\n",
       "      <td>AMAZON</td>\n",
       "      <td>NEEM JUICE 1 L</td>\n",
       "      <td>Juices</td>\n",
       "      <td>555</td>\n",
       "      <td>152287</td>\n",
       "      <td>Dec</td>\n",
       "      <td>NEEM JUICE</td>\n",
       "    </tr>\n",
       "  </tbody>\n",
       "</table>\n",
       "</div>"
      ],
      "text/plain": [
       "       Month      Channel Sub-Channels               Product Name  \\\n",
       "0 2020-12-01  Marketplace       AMAZON      ALOE + AMLA JUICE 1 L   \n",
       "1 2020-12-01  Marketplace       AMAZON  ALOE + GARCINIA JUICE 1 L   \n",
       "2 2020-12-01  Marketplace       AMAZON        ALOE VERA JUICE 1 L   \n",
       "3 2020-12-01  Marketplace       AMAZON  ALOE VERA SKIN GEL 500 GM   \n",
       "4 2020-12-01  Marketplace       AMAZON             NEEM JUICE 1 L   \n",
       "\n",
       "            Category   Qty    Sales Month_Number            New_products  \n",
       "0             Juices  1116   428700          Dec      ALOE + AMLA JUICE   \n",
       "1             Juices  3003  1374831          Dec  ALOE + GARCINIA JUICE   \n",
       "2             Juices  2962   732167          Dec        ALOE VERA JUICE   \n",
       "3  Gourmet Nutrition  1004   377100          Dec     ALOE VERA SKIN GEL   \n",
       "4             Juices   555   152287          Dec             NEEM JUICE   "
      ]
     },
     "execution_count": 204,
     "metadata": {},
     "output_type": "execute_result"
    }
   ],
   "source": [
    "FMCG.head()"
   ]
  },
  {
   "cell_type": "markdown",
   "id": "9e944bf6-f744-4e77-927f-da3027613ad4",
   "metadata": {
    "tags": []
   },
   "source": [
    "# 4. Highest Sales Month"
   ]
  },
  {
   "cell_type": "code",
   "execution_count": 252,
   "id": "0b47ce27-3be9-486e-a9b3-f4ed3d9ac0a9",
   "metadata": {
    "tags": []
   },
   "outputs": [
    {
     "data": {
      "text/plain": [
       "Sales     99,603 \n",
       "Name: Feb, dtype: object"
      ]
     },
     "execution_count": 252,
     "metadata": {},
     "output_type": "execute_result"
    }
   ],
   "source": [
    "#Highest_Sale = FMCG.sort_values('Sales', ascending=False).iloc[0]['Month_Number']\n",
    "#df = pd.DataFrame(Highest_Sale)\n",
    "\n",
    "Highest_Sale = FMCG.groupby('Month_Number')['Sales'].max().sort_values(ascending=False)\n",
    "Highest_Sale = pd.DataFrame(Highest_Sale)\n",
    "Highest_Sale = Highest_Sale.iloc[0]\n",
    "Highest_Sale"
   ]
  },
  {
   "cell_type": "markdown",
   "id": "ccf03af3-58f0-4583-adbc-00a105834ab7",
   "metadata": {},
   "source": [
    "# 5. Highest selling product (based on sales) "
   ]
  },
  {
   "cell_type": "code",
   "execution_count": 201,
   "id": "16e6d453-e8ee-4e1c-879f-7cae70ef7c02",
   "metadata": {
    "tags": []
   },
   "outputs": [
    {
     "name": "stdout",
     "output_type": "stream",
     "text": [
      "         Month      Channel Sub-Channels                  Product Name  \\\n",
      "0   2020-12-01  Marketplace       AMAZON         ALOE + AMLA JUICE 1 L   \n",
      "1   2020-12-01  Marketplace       AMAZON     ALOE + GARCINIA JUICE 1 L   \n",
      "2   2020-12-01  Marketplace       AMAZON           ALOE VERA JUICE 1 L   \n",
      "3   2020-12-01  Marketplace       AMAZON     ALOE VERA SKIN GEL 500 GM   \n",
      "4   2020-12-01  Marketplace       AMAZON                NEEM JUICE 1 L   \n",
      "..         ...          ...          ...                           ...   \n",
      "219 2021-03-01  Marketplace   Big Basket      ORGANIC GULKAND 300grams   \n",
      "220 2021-03-01  Marketplace     Flipkart     ALOE + GARCINIA JUICE 1 L   \n",
      "221 2021-03-01  Marketplace     Flipkart                AMLA JUICE 1 L   \n",
      "222 2021-03-01  Marketplace     Flipkart            GET SLIM JUICE 1 L   \n",
      "223 2021-03-01  Marketplace        GOQII  RAW HONEY ( MADHU) 500 GRAMS   \n",
      "\n",
      "              Category   Qty    Sales Month_Number            New_products  \n",
      "0               Juices  1116   428700          Dec      ALOE + AMLA JUICE   \n",
      "1               Juices  3003  1374831          Dec  ALOE + GARCINIA JUICE   \n",
      "2               Juices  2962   732167          Dec        ALOE VERA JUICE   \n",
      "3    Gourmet Nutrition  1004   377100          Dec     ALOE VERA SKIN GEL   \n",
      "4               Juices   555   152287          Dec             NEEM JUICE   \n",
      "..                 ...   ...      ...          ...                     ...  \n",
      "219  Gourmet Nutrition   509   165426          Mar        ORGANIC GULKAND   \n",
      "220             Juices   542   248830          Mar  ALOE + GARCINIA JUICE   \n",
      "221             Juices   645   140907          Mar             AMLA JUICE   \n",
      "222             Juices  1242   436043          Mar         GET SLIM JUICE   \n",
      "223  Gourmet Nutrition   971   582600          Mar     RAW HONEY ( MADHU)   \n",
      "\n",
      "[224 rows x 9 columns]\n"
     ]
    }
   ],
   "source": [
    "# We need to seprate the string by numeric \n",
    "# we have used str.extract('match that are not digits's unitil hit digits)\n",
    "FMCG['New_products'] = FMCG['Product Name'].str.extract(r'([^\\d]+)', expand=False)\n",
    "print(FMCG)"
   ]
  },
  {
   "cell_type": "code",
   "execution_count": 219,
   "id": "0162dfc9-4d67-4321-acbf-42f30261c6b3",
   "metadata": {
    "tags": []
   },
   "outputs": [
    {
     "data": {
      "text/plain": [
       "Sales    4390500\n",
       "Name: HIMALAYA OIL , dtype: int32"
      ]
     },
     "execution_count": 219,
     "metadata": {},
     "output_type": "execute_result"
    }
   ],
   "source": [
    "Highest_Selling_Product = FMCG.groupby('New_products')['Sales'].max().sort_values(ascending=False)\n",
    "Highest_Selling_Product = pd.DataFrame(Highest_Selling_Product)\n",
    "Highest_Selling_Product = Highest_Selling_Product.iloc[0]\n",
    "Highest_Selling_Product"
   ]
  },
  {
   "cell_type": "markdown",
   "id": "2666ceff-7ee5-4f9e-baf7-d7bbe5c88187",
   "metadata": {
    "tags": []
   },
   "source": [
    "# 6. List of different products company is offering "
   ]
  },
  {
   "cell_type": "code",
   "execution_count": 146,
   "id": "94a25ef0-2f52-4f64-b263-1171b9c14640",
   "metadata": {
    "tags": []
   },
   "outputs": [
    {
     "name": "stdout",
     "output_type": "stream",
     "text": [
      "['ALOE + AMLA JUICE ' 'ALOE + GARCINIA JUICE ' 'ALOE VERA JUICE '\n",
      " 'ALOE VERA SKIN GEL ' 'NEEM JUICE ' 'NONI JUICE '\n",
      " 'SLIM SHAKE - CHOCOLATE ' 'SLIM SHAKE - MANGO ' 'TRIPHALA JUICE '\n",
      " 'TULSI GILOY JUICE ' 'WHEAT GRASS JUICE ' 'AMLA JUICE ' 'GET SLIM JUICE '\n",
      " 'HIMALAYA OIL ' 'VIGOR MAX JUICE ' 'ORGANIC JAGGERY POWDER '\n",
      " 'APPLE CIDER VINEGAR' 'VIRGIN COCONUT OIL ' 'KARELA JAMUN JUICE '\n",
      " 'MASALA SUPERGRAIN MIX ENERGY ' 'MASALA SUPERGRAIN MIX IMMUNITY '\n",
      " 'AMLA + GILOY JUICE ' 'DIA FREE JUICE ' 'IMMUNE CARE JUICE '\n",
      " 'ORGANIC GULKAND ' 'VEGAN PROTEIN - CHOCOLATE ' 'GET SLIM CAPSULES '\n",
      " 'RAW HONEY ( MADHU) ']\n"
     ]
    }
   ],
   "source": [
    "list_of_products = FMCG['New_products'].unique()\n",
    "print(list_of_products)\n",
    "list_of_products = pd.DataFrame(list_of_products).reset_index()"
   ]
  },
  {
   "cell_type": "markdown",
   "id": "28bc1c8e-829e-4800-b704-c31866ddaedb",
   "metadata": {},
   "source": [
    "# 7. Create a single excel file to save all the outputs generated above in different subsheets."
   ]
  },
  {
   "cell_type": "code",
   "execution_count": 253,
   "id": "e55ad923-335d-44ef-a3c0-a1a1d08a683f",
   "metadata": {
    "tags": []
   },
   "outputs": [],
   "source": [
    "# used to write an excel file with multiple sheets. \n",
    "with ExcelWriter('FMCG_Analysis.xlsx') as writer:\n",
    "    monthwise_qty_sold.to_excel(writer,sheet_name='monthwise_qty_sold',index=False)\n",
    "    category_wise_qty.to_excel(writer,sheet_name='category_wise_qty',index=False)\n",
    "    sub_channel_wise_total_sales.to_excel(writer,sheet_name='sub_channel_wise_total_sales',index=False)\n",
    "    Highest_Sale.to_excel(writer,sheet_name='Highest_Sale',index=False)\n",
    "    Highest_Selling_Product.to_excel(writer,sheet_name='Highest_selling_product',index=False)\n",
    "    list_of_products.to_excel(writer,sheet_name='list_of_products',index=False)"
   ]
  },
  {
   "cell_type": "code",
   "execution_count": null,
   "id": "d67c53ec-2bc1-4896-a282-c34518081aaf",
   "metadata": {},
   "outputs": [],
   "source": []
  },
  {
   "cell_type": "code",
   "execution_count": null,
   "id": "a44ae58c-d2d0-4861-ad03-6b920d798be7",
   "metadata": {},
   "outputs": [],
   "source": []
  }
 ],
 "metadata": {
  "kernelspec": {
   "display_name": "Python 3 (ipykernel)",
   "language": "python",
   "name": "python3"
  },
  "language_info": {
   "codemirror_mode": {
    "name": "ipython",
    "version": 3
   },
   "file_extension": ".py",
   "mimetype": "text/x-python",
   "name": "python",
   "nbconvert_exporter": "python",
   "pygments_lexer": "ipython3",
   "version": "3.11.5"
  }
 },
 "nbformat": 4,
 "nbformat_minor": 5
}
