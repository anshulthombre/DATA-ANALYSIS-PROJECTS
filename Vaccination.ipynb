{
 "cells": [
  {
   "cell_type": "code",
   "execution_count": 10,
   "id": "e4250cc1-2978-47a8-8d19-c454a37f9da1",
   "metadata": {
    "tags": []
   },
   "outputs": [],
   "source": [
    "import pandas as pd\n",
    "import numpy as np\n",
    "from datetime import datetime"
   ]
  },
  {
   "cell_type": "code",
   "execution_count": null,
   "id": "cbf6f945-8e82-4948-9fa1-a0c0de8259d4",
   "metadata": {},
   "outputs": [],
   "source": [
    "#Step 1: Employee ID & Password - 3 times check else out of the window. "
   ]
  },
  {
   "cell_type": "code",
   "execution_count": 11,
   "id": "a0d16353-c4e4-4249-afc6-ba143ac009d7",
   "metadata": {
    "tags": []
   },
   "outputs": [
    {
     "data": {
      "text/plain": [
       "datetime.date(2024, 6, 7)"
      ]
     },
     "execution_count": 11,
     "metadata": {},
     "output_type": "execute_result"
    }
   ],
   "source": [
    "today = datetime.today().date()\n",
    "today"
   ]
  },
  {
   "cell_type": "code",
   "execution_count": 18,
   "id": "2292eba9-890d-471c-8aca-a30f0773dc06",
   "metadata": {
    "tags": []
   },
   "outputs": [],
   "source": [
    "def login():\n",
    "    correct_emp_id = 'abc'\n",
    "    correct_password = '123'\n",
    "    max_attempt = 3\n",
    "    \n",
    "    for attempt in range(3):\n",
    "        \n",
    "        emp_id = input('Enter your Emp_ID')\n",
    "        password = input('Enter your Password')\n",
    "        \n",
    "        if (emp_id=='abc') & (password=='123'):\n",
    "            print(\"login Successful\")\n",
    "            break\n",
    "        else:\n",
    "            print(\"login Unsuccessful\")\n",
    "            \n",
    "          #calculate the remaning attempts \n",
    "        attempt_left  = max_attempt - (attempt+1)\n",
    "        \n",
    "        if attempt_left>0:\n",
    "            print('Try again')\n",
    "        else:\n",
    "            print('No attempts left')\n",
    "            "
   ]
  },
  {
   "cell_type": "code",
   "execution_count": 19,
   "id": "37dcc18d-18e8-4441-8a41-74e9335431a0",
   "metadata": {
    "tags": []
   },
   "outputs": [
    {
     "name": "stdin",
     "output_type": "stream",
     "text": [
      "Enter your Emp_ID abc\n",
      "Enter your Password 123\n"
     ]
    },
    {
     "name": "stdout",
     "output_type": "stream",
     "text": [
      "login Successful\n"
     ]
    }
   ],
   "source": [
    "login()"
   ]
  },
  {
   "cell_type": "code",
   "execution_count": 12,
   "id": "32661cec-faa5-4de1-8bca-93beca583047",
   "metadata": {
    "tags": []
   },
   "outputs": [],
   "source": [
    "# Step 2: Read the file\n",
    "df = pd.read_excel('vaccine_data.xlsx')"
   ]
  },
  {
   "cell_type": "code",
   "execution_count": 13,
   "id": "e45983c3-0119-4472-be7c-a6995855ea41",
   "metadata": {
    "tags": []
   },
   "outputs": [
    {
     "data": {
      "text/html": [
       "<div>\n",
       "<style scoped>\n",
       "    .dataframe tbody tr th:only-of-type {\n",
       "        vertical-align: middle;\n",
       "    }\n",
       "\n",
       "    .dataframe tbody tr th {\n",
       "        vertical-align: top;\n",
       "    }\n",
       "\n",
       "    .dataframe thead th {\n",
       "        text-align: right;\n",
       "    }\n",
       "</style>\n",
       "<table border=\"1\" class=\"dataframe\">\n",
       "  <thead>\n",
       "    <tr style=\"text-align: right;\">\n",
       "      <th></th>\n",
       "      <th>userid</th>\n",
       "      <th>name</th>\n",
       "      <th>1st dose status</th>\n",
       "      <th>date of 1st dose</th>\n",
       "      <th>2nd dose status</th>\n",
       "      <th>date of 2nd dose</th>\n",
       "    </tr>\n",
       "  </thead>\n",
       "  <tbody>\n",
       "    <tr>\n",
       "      <th>0</th>\n",
       "      <td>p001</td>\n",
       "      <td>Chandler</td>\n",
       "      <td>yes</td>\n",
       "      <td>2021-12-30</td>\n",
       "      <td>yes</td>\n",
       "      <td>2022-03-30</td>\n",
       "    </tr>\n",
       "    <tr>\n",
       "      <th>1</th>\n",
       "      <td>p002</td>\n",
       "      <td>Joey</td>\n",
       "      <td>yes</td>\n",
       "      <td>2023-01-12</td>\n",
       "      <td>no</td>\n",
       "      <td>NaT</td>\n",
       "    </tr>\n",
       "    <tr>\n",
       "      <th>2</th>\n",
       "      <td>p003</td>\n",
       "      <td>Monica</td>\n",
       "      <td>yes</td>\n",
       "      <td>2022-03-15</td>\n",
       "      <td>yes</td>\n",
       "      <td>2022-06-23</td>\n",
       "    </tr>\n",
       "    <tr>\n",
       "      <th>3</th>\n",
       "      <td>p004</td>\n",
       "      <td>Rachel</td>\n",
       "      <td>yes</td>\n",
       "      <td>2022-02-17</td>\n",
       "      <td>no</td>\n",
       "      <td>NaT</td>\n",
       "    </tr>\n",
       "    <tr>\n",
       "      <th>4</th>\n",
       "      <td>p005</td>\n",
       "      <td>Pheobe</td>\n",
       "      <td>yes</td>\n",
       "      <td>2022-01-18</td>\n",
       "      <td>yes</td>\n",
       "      <td>2022-05-08</td>\n",
       "    </tr>\n",
       "  </tbody>\n",
       "</table>\n",
       "</div>"
      ],
      "text/plain": [
       "  userid      name 1st dose status date of 1st dose 2nd dose status  \\\n",
       "0   p001  Chandler             yes       2021-12-30             yes   \n",
       "1   p002      Joey             yes       2023-01-12              no   \n",
       "2   p003    Monica             yes       2022-03-15             yes   \n",
       "3   p004    Rachel             yes       2022-02-17              no   \n",
       "4   p005    Pheobe             yes       2022-01-18             yes   \n",
       "\n",
       "  date of 2nd dose  \n",
       "0       2022-03-30  \n",
       "1              NaT  \n",
       "2       2022-06-23  \n",
       "3              NaT  \n",
       "4       2022-05-08  "
      ]
     },
     "execution_count": 13,
     "metadata": {},
     "output_type": "execute_result"
    }
   ],
   "source": [
    "df.head()"
   ]
  },
  {
   "cell_type": "code",
   "execution_count": 26,
   "id": "da1603a1-0e95-49d3-8fde-3d31a3d6d38d",
   "metadata": {
    "tags": []
   },
   "outputs": [
    {
     "name": "stdout",
     "output_type": "stream",
     "text": [
      "<class 'pandas.core.frame.DataFrame'>\n",
      "RangeIndex: 20 entries, 0 to 19\n",
      "Data columns (total 6 columns):\n",
      " #   Column            Non-Null Count  Dtype         \n",
      "---  ------            --------------  -----         \n",
      " 0   userid            20 non-null     object        \n",
      " 1   name              20 non-null     object        \n",
      " 2   1st dose status   20 non-null     object        \n",
      " 3   date of 1st dose  14 non-null     datetime64[ns]\n",
      " 4   2nd dose status   20 non-null     object        \n",
      " 5   date of 2nd dose  9 non-null      datetime64[ns]\n",
      "dtypes: datetime64[ns](2), object(4)\n",
      "memory usage: 1.1+ KB\n"
     ]
    }
   ],
   "source": [
    "df.info()"
   ]
  },
  {
   "cell_type": "code",
   "execution_count": 14,
   "id": "3ac8abe2-e1d7-4029-91af-442ea9ca756c",
   "metadata": {
    "tags": []
   },
   "outputs": [],
   "source": [
    "df.set_index(\"userid\", inplace=True)"
   ]
  },
  {
   "cell_type": "code",
   "execution_count": 15,
   "id": "2909244b-29f1-472d-b1d3-e3daeeb9d277",
   "metadata": {
    "tags": []
   },
   "outputs": [
    {
     "data": {
      "text/html": [
       "<div>\n",
       "<style scoped>\n",
       "    .dataframe tbody tr th:only-of-type {\n",
       "        vertical-align: middle;\n",
       "    }\n",
       "\n",
       "    .dataframe tbody tr th {\n",
       "        vertical-align: top;\n",
       "    }\n",
       "\n",
       "    .dataframe thead th {\n",
       "        text-align: right;\n",
       "    }\n",
       "</style>\n",
       "<table border=\"1\" class=\"dataframe\">\n",
       "  <thead>\n",
       "    <tr style=\"text-align: right;\">\n",
       "      <th></th>\n",
       "      <th>name</th>\n",
       "      <th>1st dose status</th>\n",
       "      <th>date of 1st dose</th>\n",
       "      <th>2nd dose status</th>\n",
       "      <th>date of 2nd dose</th>\n",
       "    </tr>\n",
       "    <tr>\n",
       "      <th>userid</th>\n",
       "      <th></th>\n",
       "      <th></th>\n",
       "      <th></th>\n",
       "      <th></th>\n",
       "      <th></th>\n",
       "    </tr>\n",
       "  </thead>\n",
       "  <tbody>\n",
       "    <tr>\n",
       "      <th>p001</th>\n",
       "      <td>Chandler</td>\n",
       "      <td>yes</td>\n",
       "      <td>2021-12-30</td>\n",
       "      <td>yes</td>\n",
       "      <td>2022-03-30</td>\n",
       "    </tr>\n",
       "    <tr>\n",
       "      <th>p002</th>\n",
       "      <td>Joey</td>\n",
       "      <td>yes</td>\n",
       "      <td>2023-01-12</td>\n",
       "      <td>no</td>\n",
       "      <td>NaT</td>\n",
       "    </tr>\n",
       "    <tr>\n",
       "      <th>p003</th>\n",
       "      <td>Monica</td>\n",
       "      <td>yes</td>\n",
       "      <td>2022-03-15</td>\n",
       "      <td>yes</td>\n",
       "      <td>2022-06-23</td>\n",
       "    </tr>\n",
       "    <tr>\n",
       "      <th>p004</th>\n",
       "      <td>Rachel</td>\n",
       "      <td>yes</td>\n",
       "      <td>2022-02-17</td>\n",
       "      <td>no</td>\n",
       "      <td>NaT</td>\n",
       "    </tr>\n",
       "    <tr>\n",
       "      <th>p005</th>\n",
       "      <td>Pheobe</td>\n",
       "      <td>yes</td>\n",
       "      <td>2022-01-18</td>\n",
       "      <td>yes</td>\n",
       "      <td>2022-05-08</td>\n",
       "    </tr>\n",
       "    <tr>\n",
       "      <th>p006</th>\n",
       "      <td>Jenny</td>\n",
       "      <td>yes</td>\n",
       "      <td>2022-04-21</td>\n",
       "      <td>yes</td>\n",
       "      <td>2022-08-04</td>\n",
       "    </tr>\n",
       "    <tr>\n",
       "      <th>p007</th>\n",
       "      <td>Mike</td>\n",
       "      <td>yes</td>\n",
       "      <td>2022-03-17</td>\n",
       "      <td>no</td>\n",
       "      <td>NaT</td>\n",
       "    </tr>\n",
       "    <tr>\n",
       "      <th>p008</th>\n",
       "      <td>Harvey</td>\n",
       "      <td>yes</td>\n",
       "      <td>2022-01-18</td>\n",
       "      <td>yes</td>\n",
       "      <td>2022-04-28</td>\n",
       "    </tr>\n",
       "    <tr>\n",
       "      <th>p009</th>\n",
       "      <td>Ted</td>\n",
       "      <td>yes</td>\n",
       "      <td>2021-12-15</td>\n",
       "      <td>yes</td>\n",
       "      <td>2022-04-24</td>\n",
       "    </tr>\n",
       "    <tr>\n",
       "      <th>p010</th>\n",
       "      <td>Barney</td>\n",
       "      <td>no</td>\n",
       "      <td>NaT</td>\n",
       "      <td>no</td>\n",
       "      <td>NaT</td>\n",
       "    </tr>\n",
       "    <tr>\n",
       "      <th>p011</th>\n",
       "      <td>Robin</td>\n",
       "      <td>no</td>\n",
       "      <td>NaT</td>\n",
       "      <td>no</td>\n",
       "      <td>NaT</td>\n",
       "    </tr>\n",
       "    <tr>\n",
       "      <th>p012</th>\n",
       "      <td>Lily</td>\n",
       "      <td>no</td>\n",
       "      <td>NaT</td>\n",
       "      <td>no</td>\n",
       "      <td>NaT</td>\n",
       "    </tr>\n",
       "    <tr>\n",
       "      <th>p013</th>\n",
       "      <td>Marshal</td>\n",
       "      <td>yes</td>\n",
       "      <td>2022-02-19</td>\n",
       "      <td>yes</td>\n",
       "      <td>2022-07-19</td>\n",
       "    </tr>\n",
       "    <tr>\n",
       "      <th>p014</th>\n",
       "      <td>Kathie</td>\n",
       "      <td>yes</td>\n",
       "      <td>2022-02-10</td>\n",
       "      <td>yes</td>\n",
       "      <td>2022-05-31</td>\n",
       "    </tr>\n",
       "    <tr>\n",
       "      <th>p015</th>\n",
       "      <td>Daniel</td>\n",
       "      <td>no</td>\n",
       "      <td>NaT</td>\n",
       "      <td>no</td>\n",
       "      <td>NaT</td>\n",
       "    </tr>\n",
       "    <tr>\n",
       "      <th>p016</th>\n",
       "      <td>Jessica</td>\n",
       "      <td>no</td>\n",
       "      <td>NaT</td>\n",
       "      <td>no</td>\n",
       "      <td>NaT</td>\n",
       "    </tr>\n",
       "    <tr>\n",
       "      <th>p017</th>\n",
       "      <td>Amanda</td>\n",
       "      <td>no</td>\n",
       "      <td>NaT</td>\n",
       "      <td>no</td>\n",
       "      <td>NaT</td>\n",
       "    </tr>\n",
       "    <tr>\n",
       "      <th>p018</th>\n",
       "      <td>Steve</td>\n",
       "      <td>yes</td>\n",
       "      <td>2022-12-12</td>\n",
       "      <td>no</td>\n",
       "      <td>NaT</td>\n",
       "    </tr>\n",
       "    <tr>\n",
       "      <th>p019</th>\n",
       "      <td>Tony</td>\n",
       "      <td>yes</td>\n",
       "      <td>2022-01-27</td>\n",
       "      <td>yes</td>\n",
       "      <td>2022-05-02</td>\n",
       "    </tr>\n",
       "    <tr>\n",
       "      <th>p020</th>\n",
       "      <td>Donna</td>\n",
       "      <td>yes</td>\n",
       "      <td>2022-04-02</td>\n",
       "      <td>no</td>\n",
       "      <td>NaT</td>\n",
       "    </tr>\n",
       "  </tbody>\n",
       "</table>\n",
       "</div>"
      ],
      "text/plain": [
       "            name 1st dose status date of 1st dose 2nd dose status  \\\n",
       "userid                                                              \n",
       "p001    Chandler             yes       2021-12-30             yes   \n",
       "p002        Joey             yes       2023-01-12              no   \n",
       "p003      Monica             yes       2022-03-15             yes   \n",
       "p004      Rachel             yes       2022-02-17              no   \n",
       "p005      Pheobe             yes       2022-01-18             yes   \n",
       "p006       Jenny             yes       2022-04-21             yes   \n",
       "p007        Mike             yes       2022-03-17              no   \n",
       "p008      Harvey             yes       2022-01-18             yes   \n",
       "p009         Ted             yes       2021-12-15             yes   \n",
       "p010      Barney              no              NaT              no   \n",
       "p011       Robin              no              NaT              no   \n",
       "p012        Lily              no              NaT              no   \n",
       "p013     Marshal             yes       2022-02-19             yes   \n",
       "p014      Kathie             yes       2022-02-10             yes   \n",
       "p015      Daniel              no              NaT              no   \n",
       "p016     Jessica              no              NaT              no   \n",
       "p017      Amanda              no              NaT              no   \n",
       "p018       Steve             yes       2022-12-12              no   \n",
       "p019        Tony             yes       2022-01-27             yes   \n",
       "p020       Donna             yes       2022-04-02              no   \n",
       "\n",
       "       date of 2nd dose  \n",
       "userid                   \n",
       "p001         2022-03-30  \n",
       "p002                NaT  \n",
       "p003         2022-06-23  \n",
       "p004                NaT  \n",
       "p005         2022-05-08  \n",
       "p006         2022-08-04  \n",
       "p007                NaT  \n",
       "p008         2022-04-28  \n",
       "p009         2022-04-24  \n",
       "p010                NaT  \n",
       "p011                NaT  \n",
       "p012                NaT  \n",
       "p013         2022-07-19  \n",
       "p014         2022-05-31  \n",
       "p015                NaT  \n",
       "p016                NaT  \n",
       "p017                NaT  \n",
       "p018                NaT  \n",
       "p019         2022-05-02  \n",
       "p020                NaT  "
      ]
     },
     "execution_count": 15,
     "metadata": {},
     "output_type": "execute_result"
    }
   ],
   "source": [
    "df"
   ]
  },
  {
   "cell_type": "code",
   "execution_count": 24,
   "id": "fa055d0d-40bb-4d17-860e-72b10c778678",
   "metadata": {},
   "outputs": [],
   "source": [
    "# Step 2: Take the user id and match it. \n",
    "def check():\n",
    "    login()\n",
    "    attempts = 3 # Number of attempts \n",
    "    for attempts in range(attempts):\n",
    "            user_id = input('Enter the User ID')\n",
    "            if user_id in df.index: \n",
    "                print(f\"Hello {df.loc[user_id,'name']}\")\n",
    "        \n",
    "            if df.loc[user_id,'1st dose status'] == 'yes' and df.loc[user_id,'2nd dose status'] == 'yes': \n",
    "                print(f\"Congratulations! {df.loc[user_id,'name']}, You are fully vaccinated\")\n",
    "    \n",
    "            if user_id in df.index: \n",
    "                    if df.loc[user_id,'1st dose status'] == 'no' and df.loc[user_id,'2nd dose status'] == 'no': \n",
    "                        print(f\"{df.loc[user_id,'name']} Please take your first dose at earliest\")\n",
    "            \n",
    "            if user_id in df.index: \n",
    "                    if df.loc[user_id,'1st dose status']=='yes' and df.loc[user_id,'2nd dose status'] == 'no': \n",
    "            # Convert the first does to date time. \n",
    "                        first_dose = pd.to_datetime(df.loc[user_id,'date of 1st dose'])\n",
    "            # Convert the today's date to datetime. \n",
    "                        todays = pd.to_datetime(today) \n",
    "                        if (first_dose - todays).days>90: \n",
    "                            print(f\"{df.loc[user_id,'name']} You have taken your first dose on {first_dose}, please take your 2nd dose at earliest\")\n",
    "            else: \n",
    "                #Calculating the next 90 days\n",
    "                next_dose = first_dose+pd.Timedelta(days=90)\n",
    "                print(f\"{df.loc[user_id,'name']} You have taken your first dose on {first_dose}, please take your 2nd dose on or after {next_dose}\") \n",
    "    \n",
    "    else: \n",
    "        print(\"Enter your correct User iD\")\n",
    "        check()\n",
    "        \n",
    "        print(\"You have exhausted your all the attempts\")\n",
    "\n",
    "        "
   ]
  },
  {
   "cell_type": "code",
   "execution_count": null,
   "id": "21ff31d7-8281-4966-aa31-d45b325bdf4b",
   "metadata": {
    "tags": []
   },
   "outputs": [
    {
     "name": "stdin",
     "output_type": "stream",
     "text": [
      "Enter your Emp_ID p001\n",
      "Enter your Password 03\n"
     ]
    },
    {
     "name": "stdout",
     "output_type": "stream",
     "text": [
      "login Unsuccessful\n",
      "Try again\n"
     ]
    },
    {
     "name": "stdin",
     "output_type": "stream",
     "text": [
      "Enter your Emp_ID abx\n",
      "Enter your Password sd\n"
     ]
    },
    {
     "name": "stdout",
     "output_type": "stream",
     "text": [
      "login Unsuccessful\n",
      "Try again\n"
     ]
    },
    {
     "name": "stdin",
     "output_type": "stream",
     "text": [
      "Enter your Emp_ID abc\n",
      "Enter your Password 123\n"
     ]
    },
    {
     "name": "stdout",
     "output_type": "stream",
     "text": [
      "login Successful\n"
     ]
    },
    {
     "name": "stdin",
     "output_type": "stream",
     "text": [
      "Enter the User ID p001\n"
     ]
    },
    {
     "name": "stdout",
     "output_type": "stream",
     "text": [
      "Hello Chandler\n",
      "Congratulations! Chandler, You are fully vaccinated\n"
     ]
    }
   ],
   "source": [
    "check()"
   ]
  },
  {
   "cell_type": "code",
   "execution_count": 21,
   "id": "7602fa6c-188e-4de5-83b1-6e40968a5f0e",
   "metadata": {},
   "outputs": [],
   "source": [
    "def check():\n",
    "    login()\n",
    "    user_id = input('Enter the User ID: ')\n",
    "    \n",
    "    if user_id in df.index:\n",
    "        user_data = df.loc[user_id]\n",
    "        print(f\"Hello {user_data['name']}\")\n",
    "        \n",
    "        if user_data['1st dose status'] == 'yes' and user_data['2nd dose status'] == 'yes':\n",
    "            print(f\"Congratulations! {user_data['name']}, You are fully vaccinated\")\n",
    "        elif user_data['1st dose status'] == 'no' and user_data['2nd dose status'] == 'no':\n",
    "            print(f\"{user_data['name']}, Please take your first dose at the earliest\")\n",
    "        elif user_data['1st dose status'] == 'yes' and user_data['2nd dose status'] == 'no':\n",
    "            first_dose = pd.to_datetime(user_data['date of 1st dose'])\n",
    "            todays = pd.to_datetime(today)\n",
    "            days_since_first_dose = (todays - first_dose).days\n",
    "            \n",
    "            if days_since_first_dose > 90:\n",
    "                print(f\"{user_data['name']}, You have taken your first dose on {first_dose.date()}, please take your 2nd dose at the earliest\")\n",
    "            else:\n",
    "                next_dose = first_dose + pd.Timedelta(days=90)\n",
    "                print(f\"{user_data['name']}, You have taken your first dose on {first_dose.date()}, please take your 2nd dose on or after {next_dose.date()}\")\n",
    "    else:\n",
    "        print(\"Enter your correct User ID\")\n",
    "        check()  # Recursively call check to prompt for the correct ID\n",
    "\n"
   ]
  },
  {
   "cell_type": "code",
   "execution_count": 22,
   "id": "b2c56321-40a9-43d3-9797-40b5b7aa1089",
   "metadata": {
    "tags": []
   },
   "outputs": [
    {
     "name": "stdin",
     "output_type": "stream",
     "text": [
      "Enter your Emp_ID abc\n",
      "Enter your Password 123\n"
     ]
    },
    {
     "name": "stdout",
     "output_type": "stream",
     "text": [
      "login Successful\n"
     ]
    },
    {
     "name": "stdin",
     "output_type": "stream",
     "text": [
      "Enter the User ID:  p001\n"
     ]
    },
    {
     "name": "stdout",
     "output_type": "stream",
     "text": [
      "Hello Chandler\n",
      "Congratulations! Chandler, You are fully vaccinated\n"
     ]
    },
    {
     "name": "stdin",
     "output_type": "stream",
     "text": [
      "Do you want to exit? (y/n):  Y\n"
     ]
    }
   ],
   "source": [
    "while True:\n",
    "    check()\n",
    "    decision = input(\"Do you want to exit? (y/n): \").strip().lower()\n",
    "    if decision == 'y':\n",
    "        break"
   ]
  },
  {
   "cell_type": "code",
   "execution_count": null,
   "id": "4ca51bd6-4d93-4a4e-a895-75ad55d9cb94",
   "metadata": {},
   "outputs": [],
   "source": []
  }
 ],
 "metadata": {
  "kernelspec": {
   "display_name": "Python 3 (ipykernel)",
   "language": "python",
   "name": "python3"
  },
  "language_info": {
   "codemirror_mode": {
    "name": "ipython",
    "version": 3
   },
   "file_extension": ".py",
   "mimetype": "text/x-python",
   "name": "python",
   "nbconvert_exporter": "python",
   "pygments_lexer": "ipython3",
   "version": "3.11.5"
  }
 },
 "nbformat": 4,
 "nbformat_minor": 5
}
